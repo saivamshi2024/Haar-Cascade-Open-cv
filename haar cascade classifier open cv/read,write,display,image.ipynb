{
 "cells": [
  {
   "cell_type": "code",
   "execution_count": 1,
   "id": "c5cccbaa",
   "metadata": {},
   "outputs": [],
   "source": [
    "import cv2"
   ]
  },
  {
   "cell_type": "code",
   "execution_count": 2,
   "metadata": {},
   "outputs": [],
   "source": [
    "import numpy as np"
   ]
  },
  {
   "cell_type": "code",
   "execution_count": 5,
   "metadata": {},
   "outputs": [],
   "source": [
    "input=cv2.imread(r\"D:\\DeepLearning\\training\\sad\\tear-7348539_960_720.jpg\")"
   ]
  },
  {
   "cell_type": "code",
   "execution_count": 6,
   "metadata": {},
   "outputs": [
    {
     "data": {
      "text/plain": [
       "array([[[ 4, 23, 26],\n",
       "        [ 4, 23, 26],\n",
       "        [ 4, 23, 26],\n",
       "        ...,\n",
       "        [23, 37, 35],\n",
       "        [23, 37, 35],\n",
       "        [23, 37, 35]],\n",
       "\n",
       "       [[ 6, 25, 28],\n",
       "        [ 6, 25, 28],\n",
       "        [ 6, 25, 28],\n",
       "        ...,\n",
       "        [25, 39, 37],\n",
       "        [25, 39, 37],\n",
       "        [25, 39, 37]],\n",
       "\n",
       "       [[ 6, 25, 28],\n",
       "        [ 6, 25, 28],\n",
       "        [ 7, 26, 29],\n",
       "        ...,\n",
       "        [26, 40, 38],\n",
       "        [26, 40, 38],\n",
       "        [26, 40, 38]],\n",
       "\n",
       "       ...,\n",
       "\n",
       "       [[ 0,  5, 14],\n",
       "        [ 0,  5, 14],\n",
       "        [ 0,  5, 14],\n",
       "        ...,\n",
       "        [52, 66, 65],\n",
       "        [48, 62, 61],\n",
       "        [46, 60, 59]],\n",
       "\n",
       "       [[ 0,  5, 14],\n",
       "        [ 0,  5, 14],\n",
       "        [ 0,  5, 14],\n",
       "        ...,\n",
       "        [50, 64, 63],\n",
       "        [47, 61, 60],\n",
       "        [45, 59, 58]],\n",
       "\n",
       "       [[ 0,  5, 14],\n",
       "        [ 0,  5, 14],\n",
       "        [ 0,  5, 14],\n",
       "        ...,\n",
       "        [48, 62, 61],\n",
       "        [45, 59, 58],\n",
       "        [44, 58, 57]]], dtype=uint8)"
      ]
     },
     "execution_count": 6,
     "metadata": {},
     "output_type": "execute_result"
    }
   ],
   "source": [
    "input"
   ]
  },
  {
   "cell_type": "code",
   "execution_count": 7,
   "id": "70e74416",
   "metadata": {},
   "outputs": [],
   "source": [
    "cv2.imshow(\"input\", input)\n",
    "\n",
    "cv2.waitKey(0)\n",
    "\n",
    "cv2.destroyAllWindows()"
   ]
  },
  {
   "cell_type": "code",
   "execution_count": 8,
   "metadata": {},
   "outputs": [
    {
     "name": "stdout",
     "output_type": "stream",
     "text": [
      "height of image: 720 pixels\n",
      "width of image: 556 pixels\n"
     ]
    }
   ],
   "source": [
    "print(\"height of image:\", int(input.shape[0]),'pixels')\n",
    "print(\"width of image:\", int(input.shape[1]),'pixels')"
   ]
  },
  {
   "cell_type": "code",
   "execution_count": 9,
   "id": "e211fbf3",
   "metadata": {},
   "outputs": [
    {
     "data": {
      "text/plain": [
       "True"
      ]
     },
     "execution_count": 9,
     "metadata": {},
     "output_type": "execute_result"
    }
   ],
   "source": [
    "cv2.imwrite(r\"output.jpg\", input)"
   ]
  },
  {
   "cell_type": "code",
   "execution_count": 10,
   "id": "99fe2f6b",
   "metadata": {},
   "outputs": [
    {
     "data": {
      "text/plain": [
       "'c:\\\\Users\\\\Admin\\\\A VS CODE\\\\open cv'"
      ]
     },
     "execution_count": 10,
     "metadata": {},
     "output_type": "execute_result"
    }
   ],
   "source": [
    "import os\n",
    "os.getcwd()"
   ]
  },
  {
   "cell_type": "code",
   "execution_count": null,
   "id": "8e23a117",
   "metadata": {},
   "outputs": [],
   "source": []
  }
 ],
 "metadata": {
  "kernelspec": {
   "display_name": "Python 3",
   "language": "python",
   "name": "python3"
  },
  "language_info": {
   "codemirror_mode": {
    "name": "ipython",
    "version": 3
   },
   "file_extension": ".py",
   "mimetype": "text/x-python",
   "name": "python",
   "nbconvert_exporter": "python",
   "pygments_lexer": "ipython3",
   "version": "3.10.2"
  }
 },
 "nbformat": 4,
 "nbformat_minor": 5
}
